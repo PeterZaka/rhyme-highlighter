{
  "nbformat": 4,
  "nbformat_minor": 0,
  "metadata": {
    "colab": {
      "name": "rhyme.ipynb",
      "provenance": []
    },
    "kernelspec": {
      "name": "python3",
      "display_name": "Python 3"
    },
    "language_info": {
      "name": "python"
    }
  },
  "cells": [
    {
      "cell_type": "code",
      "source": [
        "!pip install pronouncing"
      ],
      "metadata": {
        "colab": {
          "base_uri": "https://localhost:8080/"
        },
        "id": "wA28HGMy6IpD",
        "outputId": "749f5fc4-0dfc-43fe-ab91-172d226e8b2a"
      },
      "execution_count": null,
      "outputs": [
        {
          "output_type": "stream",
          "name": "stdout",
          "text": [
            "Looking in indexes: https://pypi.org/simple, https://us-python.pkg.dev/colab-wheels/public/simple/\n",
            "Requirement already satisfied: pronouncing in /usr/local/lib/python3.7/dist-packages (0.2.0)\n",
            "Requirement already satisfied: cmudict>=0.4.0 in /usr/local/lib/python3.7/dist-packages (from pronouncing) (1.0.2)\n"
          ]
        }
      ]
    },
    {
      "cell_type": "code",
      "execution_count": null,
      "metadata": {
        "colab": {
          "base_uri": "https://localhost:8080/"
        },
        "id": "ULot8uMJ6CwG",
        "outputId": "90178064-3d71-4944-9149-55cd4b15607c"
      },
      "outputs": [
        {
          "output_type": "stream",
          "name": "stderr",
          "text": [
            "[nltk_data] Downloading package brown to /root/nltk_data...\n",
            "[nltk_data]   Package brown is already up-to-date!\n"
          ]
        }
      ],
      "source": [
        "import pronouncing\n",
        "import nltk\n",
        "from nltk.corpus import brown\n",
        "\n",
        "nltk.download('brown')\n",
        "\n",
        "freqs = nltk.FreqDist([w.lower() for w in brown.words()])"
      ]
    },
    {
      "cell_type": "code",
      "source": [
        "wordlist = set(pronouncing.rhymes(\"\"))\n",
        "\n",
        "wordlist_sorted = sorted(wordlist, key=lambda x: freqs[x.lower()], reverse=True)\n",
        "# print the sorted list\n",
        "for w in wordlist_sorted:\n",
        "    print(w)"
      ],
      "metadata": {
        "id": "drF_aJ2w6E_e"
      },
      "execution_count": null,
      "outputs": []
    },
    {
      "cell_type": "code",
      "source": [
        "pronouncing.phones_for_word(\"sentence\")"
      ],
      "metadata": {
        "colab": {
          "base_uri": "https://localhost:8080/"
        },
        "id": "aoulXlZZz0EA",
        "outputId": "b14b759c-7b11-46bc-9183-a3dfe00c9a61"
      },
      "execution_count": null,
      "outputs": [
        {
          "output_type": "execute_result",
          "data": {
            "text/plain": [
              "['S EH1 N T AH0 N S']"
            ]
          },
          "metadata": {},
          "execution_count": 248
        }
      ]
    },
    {
      "cell_type": "code",
      "source": [
        "import re\n",
        "\n",
        "regex = re.compile('[^a-zA-Z ]')"
      ],
      "metadata": {
        "id": "mps0eO2D-8C0"
      },
      "execution_count": null,
      "outputs": []
    },
    {
      "cell_type": "code",
      "source": [
        "from collections import OrderedDict\n",
        "from termcolor import colored\n",
        "\n",
        "def print_colored_rhymes(sentence, more=True, top=-1):\n",
        "  words = regex.sub('', sentence).split()\n",
        "\n",
        "  all_syllables = set()\n",
        "  word_to_phone = dict()\n",
        "  for word in words:\n",
        "    word = word.lower()\n",
        "    try:\n",
        "      phones = pronouncing.phones_for_word(word)[0].split()\n",
        "      word_to_phone[word] = phones\n",
        "      for phone in phones:\n",
        "        all_syllables.add(phone)\n",
        "    except:\n",
        "      pass\n",
        "\n",
        "  rhymes = OrderedDict()\n",
        "  for syllable in all_syllables:\n",
        "    rhymes[syllable] = [k for k, v in word_to_phone.items() if syllable in v]\n",
        "  rhymes = OrderedDict(sorted(rhymes.items(), key=lambda key_value_pair: len(key_value_pair[1])))\n",
        "  rhymes = OrderedDict(reversed(list(rhymes.items())))\n",
        "\n",
        "  colors = ['on_yellow', 'on_magenta', 'on_green', 'on_blue', 'on_grey']\n",
        "\n",
        "  top_rhymes = []\n",
        "  if more:\n",
        "    number_of_rhymes = len(colors) * 2\n",
        "  else:\n",
        "    number_of_rhymes = len(colors)\n",
        "  for i in range(number_of_rhymes):\n",
        "    if len(rhymes) == 0: break\n",
        "    top_rhymes.append(rhymes.popitem(last=False))\n",
        "    if len(top_rhymes[-1][1]) == 1:\n",
        "      top_rhymes.pop()\n",
        "      break\n",
        "\n",
        "  word_to_color = dict()\n",
        "  for color_index, rhyme in enumerate(top_rhymes):\n",
        "    if not top == -1 and top-1 != color_index:\n",
        "      continue\n",
        "    for word in rhyme[1]:\n",
        "      word = word.lower()\n",
        "      for syllable_index in [i for i, n in enumerate(word_to_phone[word]) if n == rhyme[0]]:\n",
        "        syllable_percent = syllable_index / len(word_to_phone[word])\n",
        "        syllable_end_percent = (syllable_index + 1) / len(word_to_phone[word])\n",
        "        syllable_index = round(syllable_percent * len(word))\n",
        "        syllable_end_index = round(syllable_end_percent * len(word))\n",
        "        if syllable_index == len(word): syllable_index -= 1\n",
        "        if syllable_end_index == 0: syllable_end_index = 1\n",
        "\n",
        "        if color_index == 0:\n",
        "          text_color = 'grey'\n",
        "        elif color_index // len(colors) == 0:\n",
        "          text_color = 'white'\n",
        "        else:\n",
        "          text_color = 'red'\n",
        "        color = colors[color_index % len(colors)]\n",
        "\n",
        "        if any(word == d for d in word_to_color):\n",
        "          for i in range(syllable_index, syllable_end_index):\n",
        "            word_to_color[word][i] = colored(word_to_color[word][i], text_color, color)\n",
        "        else:\n",
        "          formattedText = [i for i in word[:syllable_index]]\n",
        "          formattedText += [colored(i, text_color, color) for i in word[syllable_index:syllable_end_index]]\n",
        "          formattedText += [i for i in word[syllable_end_index:]]\n",
        "          word_to_color[word] = formattedText\n",
        "\n",
        "  count = 0\n",
        "  if len(top_rhymes) < top:\n",
        "    return\n",
        "\n",
        "  for line in sentence.splitlines():\n",
        "    for item in line.split():\n",
        "      word = re.sub(r'[^a-zA-Z]', '', item).lower()\n",
        "      if any(word == d for d in word_to_color):\n",
        "        count += 1\n",
        "        print(\"\".join(word_to_color[word]), end=' ')\n",
        "      else:\n",
        "        print(item, end=' ')\n",
        "    print()\n",
        "\n",
        "  if top != -1:\n",
        "    print(f'{list(top_rhymes)[top-1][0]} counted {count} times')"
      ],
      "metadata": {
        "id": "CZ7ije6zAw-_"
      },
      "execution_count": null,
      "outputs": []
    },
    {
      "cell_type": "code",
      "source": [
        "sentence = \"Well if you want Shady, then this is what I’ll give ya \\n A little bit of weed mixed with some hard liquor \\n Some vodka that will jumpstart my heart quicker \\n Then a shot when I get shocked at the hospital \\n By the doctor when I’m not cooperating.\"\n",
        "print_colored_rhymes(sentence)\n",
        "print()\n",
        "print_colored_rhymes(sentence, False)\n",
        "for i in range(1, 6):\n",
        "  print()\n",
        "  print_colored_rhymes(sentence, top=i)"
      ],
      "metadata": {
        "colab": {
          "base_uri": "https://localhost:8080/"
        },
        "id": "g3GTSVxNHw0S",
        "outputId": "f61262d7-3afb-4bc5-bc9a-4245304cd8af"
      },
      "execution_count": null,
      "outputs": [
        {
          "output_type": "stream",
          "name": "stdout",
          "text": [
            "\u001b[44m\u001b[37mw\u001b[0mel\u001b[43m\u001b[31ml\u001b[0m \u001b[45m\u001b[37mi\u001b[0mf you \u001b[44m\u001b[37mw\u001b[0m\u001b[42m\u001b[37ma\u001b[0mn\u001b[43m\u001b[30mt\u001b[0m sh\u001b[44m\u001b[31ma\u001b[0m\u001b[44m\u001b[31md\u001b[0my \u001b[45m\u001b[31mt\u001b[0mhen \u001b[45m\u001b[31mt\u001b[0m\u001b[45m\u001b[37mh\u001b[0m\u001b[45m\u001b[37mi\u001b[0m\u001b[42m\u001b[31ms\u001b[0m \u001b[45m\u001b[37mi\u001b[0ms \u001b[44m\u001b[37mw\u001b[0mha\u001b[43m\u001b[30mt\u001b[0m \u001b[45m\u001b[37mi\u001b[0m\u001b[45m\u001b[37ml\u001b[0m\u001b[43m\u001b[31ml\u001b[0m g\u001b[45m\u001b[37mi\u001b[0m\u001b[45m\u001b[37mv\u001b[0me y\u001b[42m\u001b[37ma\u001b[0m \n",
            "A \u001b[43m\u001b[31ml\u001b[0m\u001b[45m\u001b[37mi\u001b[0m\u001b[43m\u001b[30mt\u001b[0m\u001b[43m\u001b[30mt\u001b[0ml\u001b[43m\u001b[31me\u001b[0m b\u001b[45m\u001b[37mi\u001b[0m\u001b[43m\u001b[30mt\u001b[0m of \u001b[44m\u001b[37mw\u001b[0mee\u001b[44m\u001b[31md\u001b[0m \u001b[40m\u001b[31mm\u001b[0m\u001b[45m\u001b[37mi\u001b[0m\u001b[40m\u001b[37mx\u001b[0m\u001b[42m\u001b[31me\u001b[0m\u001b[43m\u001b[30md\u001b[0m \u001b[44m\u001b[37mw\u001b[0m\u001b[45m\u001b[37mi\u001b[0m\u001b[45m\u001b[37mt\u001b[0m\u001b[45m\u001b[31mh\u001b[0m \u001b[42m\u001b[31ms\u001b[0mom\u001b[40m\u001b[31me\u001b[0m h\u001b[42m\u001b[37ma\u001b[0mr\u001b[44m\u001b[31md\u001b[0m \u001b[43m\u001b[31ml\u001b[0m\u001b[43m\u001b[31mi\u001b[0m\u001b[45m\u001b[37mq\u001b[0m\u001b[40m\u001b[37mu\u001b[0mor \n",
            "\u001b[42m\u001b[31ms\u001b[0mom\u001b[40m\u001b[31me\u001b[0m v\u001b[42m\u001b[37mo\u001b[0m\u001b[44m\u001b[31md\u001b[0m\u001b[40m\u001b[37mk\u001b[0ma \u001b[45m\u001b[31mt\u001b[0mha\u001b[43m\u001b[30mt\u001b[0m \u001b[44m\u001b[37mw\u001b[0m\u001b[45m\u001b[37mi\u001b[0m\u001b[45m\u001b[37ml\u001b[0m\u001b[43m\u001b[31ml\u001b[0m ju\u001b[40m\u001b[31mm\u001b[0mp\u001b[42m\u001b[31ms\u001b[0m\u001b[43m\u001b[30mt\u001b[0mar\u001b[43m\u001b[30mt\u001b[0m \u001b[40m\u001b[31mm\u001b[0my h\u001b[42m\u001b[37me\u001b[0mar\u001b[43m\u001b[30mt\u001b[0m \u001b[40m\u001b[37mq\u001b[0m\u001b[44m\u001b[37mu\u001b[0m\u001b[44m\u001b[37mi\u001b[0m\u001b[45m\u001b[37mc\u001b[0m\u001b[40m\u001b[37mk\u001b[0m\u001b[40m\u001b[37me\u001b[0mr \n",
            "\u001b[45m\u001b[31mt\u001b[0mhen a s\u001b[42m\u001b[37mh\u001b[0m\u001b[42m\u001b[37mo\u001b[0m\u001b[43m\u001b[30mt\u001b[0m \u001b[44m\u001b[37mw\u001b[0mhen I ge\u001b[43m\u001b[30mt\u001b[0m sh\u001b[42m\u001b[37mo\u001b[0m\u001b[42m\u001b[37mc\u001b[0m\u001b[40m\u001b[37mk\u001b[0m\u001b[43m\u001b[30me\u001b[0m\u001b[43m\u001b[30md\u001b[0m a\u001b[43m\u001b[30mt\u001b[0m \u001b[45m\u001b[31mt\u001b[0m\u001b[45m\u001b[31mh\u001b[0me h\u001b[42m\u001b[37mo\u001b[0m\u001b[42m\u001b[31ms\u001b[0mpi\u001b[43m\u001b[30mt\u001b[0ma\u001b[43m\u001b[31ml\u001b[0m \n",
            "By \u001b[45m\u001b[31mt\u001b[0m\u001b[45m\u001b[31mh\u001b[0me \u001b[44m\u001b[31md\u001b[0m\u001b[42m\u001b[37mo\u001b[0m\u001b[40m\u001b[37mc\u001b[0m\u001b[40m\u001b[37mt\u001b[0m\u001b[43m\u001b[30mo\u001b[0mr \u001b[44m\u001b[37mw\u001b[0mhen \u001b[45m\u001b[37mi\u001b[0m\u001b[40m\u001b[31mm\u001b[0m n\u001b[42m\u001b[37mo\u001b[0m\u001b[43m\u001b[30mt\u001b[0m \u001b[40m\u001b[37mc\u001b[0mo\u001b[42m\u001b[37mo\u001b[0m\u001b[42m\u001b[37mp\u001b[0mera\u001b[43m\u001b[30mt\u001b[0m\u001b[43m\u001b[30mi\u001b[0mng \n",
            "\n",
            "\u001b[44m\u001b[37mw\u001b[0mell \u001b[45m\u001b[37mi\u001b[0mf you \u001b[44m\u001b[37mw\u001b[0m\u001b[42m\u001b[37ma\u001b[0mn\u001b[43m\u001b[30mt\u001b[0m Shady, then t\u001b[45m\u001b[37mh\u001b[0m\u001b[45m\u001b[37mi\u001b[0ms \u001b[45m\u001b[37mi\u001b[0ms \u001b[44m\u001b[37mw\u001b[0mha\u001b[43m\u001b[30mt\u001b[0m \u001b[45m\u001b[37mi\u001b[0m\u001b[45m\u001b[37ml\u001b[0ml g\u001b[45m\u001b[37mi\u001b[0m\u001b[45m\u001b[37mv\u001b[0me y\u001b[42m\u001b[37ma\u001b[0m \n",
            "A l\u001b[45m\u001b[37mi\u001b[0m\u001b[43m\u001b[30mt\u001b[0m\u001b[43m\u001b[30mt\u001b[0mle b\u001b[45m\u001b[37mi\u001b[0m\u001b[43m\u001b[30mt\u001b[0m of \u001b[44m\u001b[37mw\u001b[0meed m\u001b[45m\u001b[37mi\u001b[0m\u001b[40m\u001b[37mx\u001b[0me\u001b[43m\u001b[30md\u001b[0m \u001b[44m\u001b[37mw\u001b[0m\u001b[45m\u001b[37mi\u001b[0m\u001b[45m\u001b[37mt\u001b[0mh some h\u001b[42m\u001b[37ma\u001b[0mrd li\u001b[45m\u001b[37mq\u001b[0m\u001b[40m\u001b[37mu\u001b[0mor \n",
            "Some v\u001b[42m\u001b[37mo\u001b[0md\u001b[40m\u001b[37mk\u001b[0ma tha\u001b[43m\u001b[30mt\u001b[0m \u001b[44m\u001b[37mw\u001b[0m\u001b[45m\u001b[37mi\u001b[0m\u001b[45m\u001b[37ml\u001b[0ml jumps\u001b[43m\u001b[30mt\u001b[0mar\u001b[43m\u001b[30mt\u001b[0m my h\u001b[42m\u001b[37me\u001b[0mar\u001b[43m\u001b[30mt\u001b[0m \u001b[40m\u001b[37mq\u001b[0m\u001b[44m\u001b[37mu\u001b[0m\u001b[44m\u001b[37mi\u001b[0m\u001b[45m\u001b[37mc\u001b[0m\u001b[40m\u001b[37mk\u001b[0m\u001b[40m\u001b[37me\u001b[0mr \n",
            "Then a s\u001b[42m\u001b[37mh\u001b[0m\u001b[42m\u001b[37mo\u001b[0m\u001b[43m\u001b[30mt\u001b[0m \u001b[44m\u001b[37mw\u001b[0mhen I ge\u001b[43m\u001b[30mt\u001b[0m sh\u001b[42m\u001b[37mo\u001b[0m\u001b[42m\u001b[37mc\u001b[0m\u001b[40m\u001b[37mk\u001b[0m\u001b[43m\u001b[30me\u001b[0m\u001b[43m\u001b[30md\u001b[0m a\u001b[43m\u001b[30mt\u001b[0m the h\u001b[42m\u001b[37mo\u001b[0mspi\u001b[43m\u001b[30mt\u001b[0mal \n",
            "By the d\u001b[42m\u001b[37mo\u001b[0m\u001b[40m\u001b[37mc\u001b[0m\u001b[40m\u001b[37mt\u001b[0m\u001b[43m\u001b[30mo\u001b[0mr \u001b[44m\u001b[37mw\u001b[0mhen \u001b[45m\u001b[37mi\u001b[0mm n\u001b[42m\u001b[37mo\u001b[0m\u001b[43m\u001b[30mt\u001b[0m \u001b[40m\u001b[37mc\u001b[0mo\u001b[42m\u001b[37mo\u001b[0m\u001b[42m\u001b[37mp\u001b[0mera\u001b[43m\u001b[30mt\u001b[0m\u001b[43m\u001b[30mi\u001b[0mng \n",
            "\n",
            "Well if you wan\u001b[43m\u001b[30mt\u001b[0m Shady, then this is wha\u001b[43m\u001b[30mt\u001b[0m I’ll give ya \n",
            "A li\u001b[43m\u001b[30mt\u001b[0m\u001b[43m\u001b[30mt\u001b[0mle bi\u001b[43m\u001b[30mt\u001b[0m of weed mixe\u001b[43m\u001b[30md\u001b[0m with some hard liquor \n",
            "Some vodka tha\u001b[43m\u001b[30mt\u001b[0m will jumps\u001b[43m\u001b[30mt\u001b[0mar\u001b[43m\u001b[30mt\u001b[0m my hear\u001b[43m\u001b[30mt\u001b[0m quicker \n",
            "Then a sho\u001b[43m\u001b[30mt\u001b[0m when I ge\u001b[43m\u001b[30mt\u001b[0m shock\u001b[43m\u001b[30me\u001b[0m\u001b[43m\u001b[30md\u001b[0m a\u001b[43m\u001b[30mt\u001b[0m the hospi\u001b[43m\u001b[30mt\u001b[0mal \n",
            "By the doct\u001b[43m\u001b[30mo\u001b[0mr when I’m no\u001b[43m\u001b[30mt\u001b[0m coopera\u001b[43m\u001b[30mt\u001b[0m\u001b[43m\u001b[30mi\u001b[0mng \n",
            "T counted 16 times\n",
            "\n",
            "Well \u001b[45m\u001b[37mi\u001b[0mf you want Shady, then t\u001b[45m\u001b[37mh\u001b[0m\u001b[45m\u001b[37mi\u001b[0ms \u001b[45m\u001b[37mi\u001b[0ms what \u001b[45m\u001b[37mi\u001b[0m\u001b[45m\u001b[37ml\u001b[0ml g\u001b[45m\u001b[37mi\u001b[0m\u001b[45m\u001b[37mv\u001b[0me ya \n",
            "A l\u001b[45m\u001b[37mi\u001b[0mttle b\u001b[45m\u001b[37mi\u001b[0mt of weed m\u001b[45m\u001b[37mi\u001b[0mxed w\u001b[45m\u001b[37mi\u001b[0m\u001b[45m\u001b[37mt\u001b[0mh some hard li\u001b[45m\u001b[37mq\u001b[0muor \n",
            "Some vodka that w\u001b[45m\u001b[37mi\u001b[0m\u001b[45m\u001b[37ml\u001b[0ml jumpstart my heart qui\u001b[45m\u001b[37mc\u001b[0mker \n",
            "Then a shot when I get shocked at the hospital \n",
            "By the doctor when \u001b[45m\u001b[37mi\u001b[0mm not cooperating. \n",
            "IH1 counted 13 times\n",
            "\n",
            "Well if you w\u001b[42m\u001b[37ma\u001b[0mnt Shady, then this is what I’ll give y\u001b[42m\u001b[37ma\u001b[0m \n",
            "A little bit of weed mixed with some h\u001b[42m\u001b[37ma\u001b[0mrd liquor \n",
            "Some v\u001b[42m\u001b[37mo\u001b[0mdka that will jumpstart my h\u001b[42m\u001b[37me\u001b[0mart quicker \n",
            "Then a s\u001b[42m\u001b[37mh\u001b[0m\u001b[42m\u001b[37mo\u001b[0mt when I get sh\u001b[42m\u001b[37mo\u001b[0m\u001b[42m\u001b[37mc\u001b[0mked at the h\u001b[42m\u001b[37mo\u001b[0mspital \n",
            "By the d\u001b[42m\u001b[37mo\u001b[0mctor when I’m n\u001b[42m\u001b[37mo\u001b[0mt co\u001b[42m\u001b[37mo\u001b[0m\u001b[42m\u001b[37mp\u001b[0merating \n",
            "AA1 counted 11 times\n",
            "\n",
            "\u001b[44m\u001b[37mw\u001b[0mell if you \u001b[44m\u001b[37mw\u001b[0mant Shady, then this is \u001b[44m\u001b[37mw\u001b[0mhat I’ll give ya \n",
            "A little bit of \u001b[44m\u001b[37mw\u001b[0meed mixed \u001b[44m\u001b[37mw\u001b[0mith some hard liquor \n",
            "Some vodka that \u001b[44m\u001b[37mw\u001b[0mill jumpstart my heart q\u001b[44m\u001b[37mu\u001b[0m\u001b[44m\u001b[37mi\u001b[0mcker \n",
            "Then a shot \u001b[44m\u001b[37mw\u001b[0mhen I get shocked at the hospital \n",
            "By the doctor \u001b[44m\u001b[37mw\u001b[0mhen I’m not cooperating. \n",
            "W counted 9 times\n",
            "\n",
            "Well if you want Shady, then this is what I’ll give ya \n",
            "A little bit of weed mi\u001b[40m\u001b[37mx\u001b[0med with some hard liq\u001b[40m\u001b[37mu\u001b[0mor \n",
            "Some vod\u001b[40m\u001b[37mk\u001b[0ma that will jumpstart my heart \u001b[40m\u001b[37mq\u001b[0muic\u001b[40m\u001b[37mk\u001b[0m\u001b[40m\u001b[37me\u001b[0mr \n",
            "Then a shot when I get shoc\u001b[40m\u001b[37mk\u001b[0med at the hospital \n",
            "By the do\u001b[40m\u001b[37mc\u001b[0m\u001b[40m\u001b[37mt\u001b[0mor when I’m not \u001b[40m\u001b[37mc\u001b[0mooperating \n",
            "K counted 7 times\n"
          ]
        }
      ]
    },
    {
      "cell_type": "code",
      "source": [
        "sentence = 'This is a random sentence that I am not trying to rhyme'\n",
        "print_colored_rhymes(sentence)\n",
        "print()\n",
        "print_colored_rhymes(sentence, False)\n",
        "print()\n",
        "print_colored_rhymes(sentence, top=1)"
      ],
      "metadata": {
        "colab": {
          "base_uri": "https://localhost:8080/"
        },
        "id": "R8VV8eDZJXv-",
        "outputId": "1bcaf4c5-afa8-4205-80ed-23a70b7777f9"
      },
      "execution_count": null,
      "outputs": [
        {
          "output_type": "stream",
          "name": "stdout",
          "text": [
            "\u001b[44m\u001b[31mt\u001b[0m\u001b[42m\u001b[31mh\u001b[0m\u001b[42m\u001b[31mi\u001b[0m\u001b[40m\u001b[31ms\u001b[0m \u001b[42m\u001b[31mi\u001b[0ms \u001b[45m\u001b[31ma\u001b[0m \u001b[45m\u001b[37mr\u001b[0m\u001b[43m\u001b[31ma\u001b[0m\u001b[40m\u001b[37mn\u001b[0md\u001b[45m\u001b[31mo\u001b[0m\u001b[42m\u001b[37mm\u001b[0m \u001b[40m\u001b[31ms\u001b[0me\u001b[40m\u001b[37mn\u001b[0m\u001b[43m\u001b[30mt\u001b[0m\u001b[43m\u001b[30me\u001b[0m\u001b[45m\u001b[31mn\u001b[0m\u001b[40m\u001b[37mc\u001b[0m\u001b[40m\u001b[31me\u001b[0m \u001b[44m\u001b[31mt\u001b[0m\u001b[43m\u001b[31mh\u001b[0m\u001b[43m\u001b[31ma\u001b[0m\u001b[43m\u001b[30mt\u001b[0m \u001b[44m\u001b[37mi\u001b[0m \u001b[43m\u001b[31ma\u001b[0m\u001b[42m\u001b[37mm\u001b[0m \u001b[40m\u001b[37mn\u001b[0mo\u001b[43m\u001b[30mt\u001b[0m \u001b[43m\u001b[30mt\u001b[0m\u001b[45m\u001b[37mr\u001b[0m\u001b[44m\u001b[37my\u001b[0m\u001b[44m\u001b[37mi\u001b[0mng \u001b[43m\u001b[30mt\u001b[0mo \u001b[45m\u001b[37mr\u001b[0m\u001b[45m\u001b[37mh\u001b[0m\u001b[44m\u001b[37my\u001b[0m\u001b[42m\u001b[37mm\u001b[0m\u001b[42m\u001b[37me\u001b[0m \n",
            "\n",
            "This is a \u001b[45m\u001b[37mr\u001b[0ma\u001b[40m\u001b[37mn\u001b[0mdo\u001b[42m\u001b[37mm\u001b[0m se\u001b[40m\u001b[37mn\u001b[0m\u001b[43m\u001b[30mt\u001b[0m\u001b[43m\u001b[30me\u001b[0mn\u001b[40m\u001b[37mc\u001b[0me tha\u001b[43m\u001b[30mt\u001b[0m \u001b[44m\u001b[37mi\u001b[0m a\u001b[42m\u001b[37mm\u001b[0m \u001b[40m\u001b[37mn\u001b[0mo\u001b[43m\u001b[30mt\u001b[0m \u001b[43m\u001b[30mt\u001b[0m\u001b[45m\u001b[37mr\u001b[0m\u001b[44m\u001b[37my\u001b[0m\u001b[44m\u001b[37mi\u001b[0mng \u001b[43m\u001b[30mt\u001b[0mo \u001b[45m\u001b[37mr\u001b[0m\u001b[45m\u001b[37mh\u001b[0m\u001b[44m\u001b[37my\u001b[0m\u001b[42m\u001b[37mm\u001b[0m\u001b[42m\u001b[37me\u001b[0m \n",
            "\n",
            "This is a random sen\u001b[43m\u001b[30mt\u001b[0m\u001b[43m\u001b[30me\u001b[0mnce tha\u001b[43m\u001b[30mt\u001b[0m I am no\u001b[43m\u001b[30mt\u001b[0m \u001b[43m\u001b[30mt\u001b[0mrying \u001b[43m\u001b[30mt\u001b[0mo rhyme \n",
            "T counted 5 times\n"
          ]
        }
      ]
    },
    {
      "cell_type": "code",
      "source": [
        "sentence = input('input: ')\n",
        "print_colored_rhymes(sentence)\n",
        "print()\n",
        "print_colored_rhymes(sentence, False)\n",
        "for i in range(1, 6):\n",
        "  print()\n",
        "  print_colored_rhymes(sentence, top=i)"
      ],
      "metadata": {
        "colab": {
          "base_uri": "https://localhost:8080/"
        },
        "id": "MY1ZQMt_xyM9",
        "outputId": "7c8b8fef-d8aa-44c3-e16a-bdbd87be7141"
      },
      "execution_count": null,
      "outputs": [
        {
          "output_type": "stream",
          "name": "stdout",
          "text": [
            "input: a b c d e f g h i j k l m n o p q r s t u v w x y z\n",
            "a \u001b[42m\u001b[31m\u001b[43m\u001b[30mb\u001b[0m\u001b[0m \u001b[44m\u001b[37m\u001b[43m\u001b[30mc\u001b[0m\u001b[0m \u001b[43m\u001b[30md\u001b[0m \u001b[43m\u001b[30me\u001b[0m \u001b[45m\u001b[37mf\u001b[0m \u001b[43m\u001b[30mg\u001b[0m \u001b[43m\u001b[31mh\u001b[0m \u001b[45m\u001b[31mi\u001b[0m \u001b[43m\u001b[31mj\u001b[0m \u001b[43m\u001b[31m\u001b[42m\u001b[37mk\u001b[0m\u001b[0m \u001b[44m\u001b[31m\u001b[45m\u001b[37ml\u001b[0m\u001b[0m \u001b[45m\u001b[37mm\u001b[0m \u001b[45m\u001b[37mn\u001b[0m o \u001b[43m\u001b[30mp\u001b[0m \u001b[40m\u001b[31m\u001b[40m\u001b[37m\u001b[42m\u001b[37mq\u001b[0m\u001b[0m\u001b[0m r \u001b[44m\u001b[37m\u001b[45m\u001b[37ms\u001b[0m\u001b[0m \u001b[43m\u001b[30mt\u001b[0m \u001b[40m\u001b[31m\u001b[40m\u001b[37mu\u001b[0m\u001b[0m \u001b[43m\u001b[30mv\u001b[0m \u001b[44m\u001b[31m\u001b[42m\u001b[31m\u001b[40m\u001b[37mw\u001b[0m\u001b[0m\u001b[0m \u001b[44m\u001b[37m\u001b[42m\u001b[37m\u001b[45m\u001b[37mx\u001b[0m\u001b[0m\u001b[0m \u001b[45m\u001b[31my\u001b[0m \u001b[43m\u001b[30mz\u001b[0m \n",
            "\n",
            "a \u001b[43m\u001b[30mb\u001b[0m \u001b[44m\u001b[37m\u001b[43m\u001b[30mc\u001b[0m\u001b[0m \u001b[43m\u001b[30md\u001b[0m \u001b[43m\u001b[30me\u001b[0m \u001b[45m\u001b[37mf\u001b[0m \u001b[43m\u001b[30mg\u001b[0m h i j \u001b[42m\u001b[37mk\u001b[0m \u001b[45m\u001b[37ml\u001b[0m \u001b[45m\u001b[37mm\u001b[0m \u001b[45m\u001b[37mn\u001b[0m o \u001b[43m\u001b[30mp\u001b[0m \u001b[40m\u001b[37m\u001b[42m\u001b[37mq\u001b[0m\u001b[0m r \u001b[44m\u001b[37m\u001b[45m\u001b[37ms\u001b[0m\u001b[0m \u001b[43m\u001b[30mt\u001b[0m \u001b[40m\u001b[37mu\u001b[0m \u001b[43m\u001b[30mv\u001b[0m \u001b[40m\u001b[37mw\u001b[0m \u001b[44m\u001b[37m\u001b[42m\u001b[37m\u001b[45m\u001b[37mx\u001b[0m\u001b[0m\u001b[0m y \u001b[43m\u001b[30mz\u001b[0m \n",
            "\n",
            "a \u001b[43m\u001b[30mb\u001b[0m \u001b[43m\u001b[30mc\u001b[0m \u001b[43m\u001b[30md\u001b[0m \u001b[43m\u001b[30me\u001b[0m f \u001b[43m\u001b[30mg\u001b[0m h i j k l m n o \u001b[43m\u001b[30mp\u001b[0m q r s \u001b[43m\u001b[30mt\u001b[0m u \u001b[43m\u001b[30mv\u001b[0m w x y \u001b[43m\u001b[30mz\u001b[0m \n",
            "IY1 counted 9 times\n",
            "\n",
            "a b c d e \u001b[45m\u001b[37mf\u001b[0m g h i j k \u001b[45m\u001b[37ml\u001b[0m \u001b[45m\u001b[37mm\u001b[0m \u001b[45m\u001b[37mn\u001b[0m o p q r \u001b[45m\u001b[37ms\u001b[0m t u v w \u001b[45m\u001b[37mx\u001b[0m y z \n",
            "EH1 counted 6 times\n",
            "\n",
            "a b c d e f g h i j \u001b[42m\u001b[37mk\u001b[0m l m n o p \u001b[42m\u001b[37mq\u001b[0m r s t u v w \u001b[42m\u001b[37mx\u001b[0m y z \n",
            "K counted 3 times\n",
            "\n",
            "a b \u001b[44m\u001b[37mc\u001b[0m d e f g h i j k l m n o p q r \u001b[44m\u001b[37ms\u001b[0m t u v w \u001b[44m\u001b[37mx\u001b[0m y z \n",
            "S counted 3 times\n",
            "\n",
            "a b c d e f g h i j k l m n o p \u001b[40m\u001b[37mq\u001b[0m r s t \u001b[40m\u001b[37mu\u001b[0m v \u001b[40m\u001b[37mw\u001b[0m x y z \n",
            "Y counted 3 times\n"
          ]
        }
      ]
    }
  ]
}